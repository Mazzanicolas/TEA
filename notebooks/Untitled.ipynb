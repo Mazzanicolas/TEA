{
 "cells": [
  {
   "cell_type": "markdown",
   "metadata": {},
   "source": [
    "# Missing Values"
   ]
  },
  {
   "cell_type": "code",
   "execution_count": 1,
   "metadata": {},
   "outputs": [],
   "source": [
    "import pandas as pd\n",
    "from datetime import datetime"
   ]
  },
  {
   "cell_type": "markdown",
   "metadata": {},
   "source": [
    "Al guardar el dataset en la sección anterior, pandas agrega una columna `Unnamed: 0` con los indices de las filas, esta columna no nos es util por lo cual la eliminamos al cargar el dataset"
   ]
  },
  {
   "cell_type": "code",
   "execution_count": 7,
   "metadata": {},
   "outputs": [
    {
     "data": {
      "text/html": [
       "<div>\n",
       "<style scoped>\n",
       "    .dataframe tbody tr th:only-of-type {\n",
       "        vertical-align: middle;\n",
       "    }\n",
       "\n",
       "    .dataframe tbody tr th {\n",
       "        vertical-align: top;\n",
       "    }\n",
       "\n",
       "    .dataframe thead th {\n",
       "        text-align: right;\n",
       "    }\n",
       "</style>\n",
       "<table border=\"1\" class=\"dataframe\">\n",
       "  <thead>\n",
       "    <tr style=\"text-align: right;\">\n",
       "      <th></th>\n",
       "      <th>id</th>\n",
       "      <th>line</th>\n",
       "      <th>longitude</th>\n",
       "      <th>latitude</th>\n",
       "      <th>timestamp</th>\n",
       "    </tr>\n",
       "  </thead>\n",
       "  <tbody>\n",
       "    <tr>\n",
       "      <th>0</th>\n",
       "      <td>76</td>\n",
       "      <td>217</td>\n",
       "      <td>-56.222400</td>\n",
       "      <td>-34.855885</td>\n",
       "      <td>2018-10-02 14:38:53</td>\n",
       "    </tr>\n",
       "    <tr>\n",
       "      <th>1</th>\n",
       "      <td>984</td>\n",
       "      <td>540</td>\n",
       "      <td>-56.201860</td>\n",
       "      <td>-34.909360</td>\n",
       "      <td>2018-10-02 14:39:08</td>\n",
       "    </tr>\n",
       "    <tr>\n",
       "      <th>2</th>\n",
       "      <td>288</td>\n",
       "      <td>7898</td>\n",
       "      <td>-56.175415</td>\n",
       "      <td>-34.901110</td>\n",
       "      <td>2018-10-02 14:39:08</td>\n",
       "    </tr>\n",
       "    <tr>\n",
       "      <th>3</th>\n",
       "      <td>1111</td>\n",
       "      <td>254</td>\n",
       "      <td>-56.136640</td>\n",
       "      <td>-34.872833</td>\n",
       "      <td>2018-10-02 14:39:08</td>\n",
       "    </tr>\n",
       "    <tr>\n",
       "      <th>4</th>\n",
       "      <td>22</td>\n",
       "      <td>540</td>\n",
       "      <td>-56.135277</td>\n",
       "      <td>-34.845554</td>\n",
       "      <td>2018-10-02 14:39:08</td>\n",
       "    </tr>\n",
       "  </tbody>\n",
       "</table>\n",
       "</div>"
      ],
      "text/plain": [
       "     id  line  longitude   latitude            timestamp\n",
       "0    76   217 -56.222400 -34.855885  2018-10-02 14:38:53\n",
       "1   984   540 -56.201860 -34.909360  2018-10-02 14:39:08\n",
       "2   288  7898 -56.175415 -34.901110  2018-10-02 14:39:08\n",
       "3  1111   254 -56.136640 -34.872833  2018-10-02 14:39:08\n",
       "4    22   540 -56.135277 -34.845554  2018-10-02 14:39:08"
      ]
     },
     "execution_count": 7,
     "metadata": {},
     "output_type": "execute_result"
    }
   ],
   "source": [
    "stage_1_data = pd.read_csv('../data/bus_data_stage_1.csv')\n",
    "stage_1_data = stage_1_data.drop(['Unnamed: 0'], axis=1)\n",
    "stage_1_data.head()"
   ]
  },
  {
   "cell_type": "code",
   "execution_count": null,
   "metadata": {},
   "outputs": [],
   "source": []
  }
 ],
 "metadata": {
  "kernelspec": {
   "display_name": "Python 3",
   "language": "python",
   "name": "python3"
  },
  "language_info": {
   "codemirror_mode": {
    "name": "ipython",
    "version": 3
   },
   "file_extension": ".py",
   "mimetype": "text/x-python",
   "name": "python",
   "nbconvert_exporter": "python",
   "pygments_lexer": "ipython3",
   "version": "3.7.0"
  }
 },
 "nbformat": 4,
 "nbformat_minor": 2
}
