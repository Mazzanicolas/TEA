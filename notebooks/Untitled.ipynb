{
 "cells": [
  {
   "cell_type": "markdown",
   "metadata": {},
   "source": [
    "# Missing Values"
   ]
  },
  {
   "cell_type": "code",
   "execution_count": 4,
   "metadata": {},
   "outputs": [],
   "source": [
    "import pandas as pd\n",
    "from datetime import datetime"
   ]
  },
  {
   "cell_type": "markdown",
   "metadata": {},
   "source": [
    "Al guardar el dataset en la sección anterior, pandas agrega una columna `Unnamed: 0` con los indices de las filas, esta columna no nos es util por lo cual la eliminamos al cargar el dataset"
   ]
  },
  {
   "cell_type": "code",
   "execution_count": 5,
   "metadata": {},
   "outputs": [
    {
     "data": {
      "text/html": [
       "<div>\n",
       "<style scoped>\n",
       "    .dataframe tbody tr th:only-of-type {\n",
       "        vertical-align: middle;\n",
       "    }\n",
       "\n",
       "    .dataframe tbody tr th {\n",
       "        vertical-align: top;\n",
       "    }\n",
       "\n",
       "    .dataframe thead th {\n",
       "        text-align: right;\n",
       "    }\n",
       "</style>\n",
       "<table border=\"1\" class=\"dataframe\">\n",
       "  <thead>\n",
       "    <tr style=\"text-align: right;\">\n",
       "      <th></th>\n",
       "      <th>id</th>\n",
       "      <th>line</th>\n",
       "      <th>longitude</th>\n",
       "      <th>latitude</th>\n",
       "      <th>timestamp</th>\n",
       "    </tr>\n",
       "  </thead>\n",
       "  <tbody>\n",
       "    <tr>\n",
       "      <th>0</th>\n",
       "      <td>76</td>\n",
       "      <td>217</td>\n",
       "      <td>-56.222400</td>\n",
       "      <td>-34.855885</td>\n",
       "      <td>2018-10-02 14:38:53</td>\n",
       "    </tr>\n",
       "    <tr>\n",
       "      <th>1</th>\n",
       "      <td>984</td>\n",
       "      <td>540</td>\n",
       "      <td>-56.201860</td>\n",
       "      <td>-34.909360</td>\n",
       "      <td>2018-10-02 14:39:08</td>\n",
       "    </tr>\n",
       "    <tr>\n",
       "      <th>2</th>\n",
       "      <td>288</td>\n",
       "      <td>7898</td>\n",
       "      <td>-56.175415</td>\n",
       "      <td>-34.901110</td>\n",
       "      <td>2018-10-02 14:39:08</td>\n",
       "    </tr>\n",
       "    <tr>\n",
       "      <th>3</th>\n",
       "      <td>1111</td>\n",
       "      <td>254</td>\n",
       "      <td>-56.136640</td>\n",
       "      <td>-34.872833</td>\n",
       "      <td>2018-10-02 14:39:08</td>\n",
       "    </tr>\n",
       "    <tr>\n",
       "      <th>4</th>\n",
       "      <td>22</td>\n",
       "      <td>540</td>\n",
       "      <td>-56.135277</td>\n",
       "      <td>-34.845554</td>\n",
       "      <td>2018-10-02 14:39:08</td>\n",
       "    </tr>\n",
       "  </tbody>\n",
       "</table>\n",
       "</div>"
      ],
      "text/plain": [
       "     id  line  longitude   latitude            timestamp\n",
       "0    76   217 -56.222400 -34.855885  2018-10-02 14:38:53\n",
       "1   984   540 -56.201860 -34.909360  2018-10-02 14:39:08\n",
       "2   288  7898 -56.175415 -34.901110  2018-10-02 14:39:08\n",
       "3  1111   254 -56.136640 -34.872833  2018-10-02 14:39:08\n",
       "4    22   540 -56.135277 -34.845554  2018-10-02 14:39:08"
      ]
     },
     "execution_count": 5,
     "metadata": {},
     "output_type": "execute_result"
    }
   ],
   "source": [
    "stage_1_data = pd.read_csv('../data/bus_data_stage_1.csv')\n",
    "stage_1_data = stage_1_data.drop(['Unnamed: 0'], axis=1)\n",
    "stage_1_data.head()"
   ]
  },
  {
   "cell_type": "markdown",
   "metadata": {},
   "source": [
    "Vemos los diferentes tipos de datos con los que estamos trabajando"
   ]
  },
  {
   "cell_type": "code",
   "execution_count": 8,
   "metadata": {},
   "outputs": [
    {
     "name": "stdout",
     "output_type": "stream",
     "text": [
      "<class 'pandas.core.frame.DataFrame'>\n",
      "RangeIndex: 96496 entries, 0 to 96495\n",
      "Data columns (total 5 columns):\n",
      "id           96496 non-null int64\n",
      "line         96496 non-null int64\n",
      "longitude    96496 non-null float64\n",
      "latitude     96496 non-null float64\n",
      "timestamp    96496 non-null object\n",
      "dtypes: float64(2), int64(2), object(1)\n",
      "memory usage: 3.7+ MB\n"
     ]
    }
   ],
   "source": [
    "stage_1_data.info()"
   ]
  },
  {
   "cell_type": "markdown",
   "metadata": {},
   "source": [
    "Vemos algunas medidas estadisticas de los datos"
   ]
  },
  {
   "cell_type": "code",
   "execution_count": 7,
   "metadata": {},
   "outputs": [
    {
     "data": {
      "text/html": [
       "<div>\n",
       "<style scoped>\n",
       "    .dataframe tbody tr th:only-of-type {\n",
       "        vertical-align: middle;\n",
       "    }\n",
       "\n",
       "    .dataframe tbody tr th {\n",
       "        vertical-align: top;\n",
       "    }\n",
       "\n",
       "    .dataframe thead th {\n",
       "        text-align: right;\n",
       "    }\n",
       "</style>\n",
       "<table border=\"1\" class=\"dataframe\">\n",
       "  <thead>\n",
       "    <tr style=\"text-align: right;\">\n",
       "      <th></th>\n",
       "      <th>id</th>\n",
       "      <th>line</th>\n",
       "      <th>longitude</th>\n",
       "      <th>latitude</th>\n",
       "    </tr>\n",
       "  </thead>\n",
       "  <tbody>\n",
       "    <tr>\n",
       "      <th>count</th>\n",
       "      <td>96496.000000</td>\n",
       "      <td>96496.000000</td>\n",
       "      <td>96496.000000</td>\n",
       "      <td>96496.000000</td>\n",
       "    </tr>\n",
       "    <tr>\n",
       "      <th>mean</th>\n",
       "      <td>348.944153</td>\n",
       "      <td>2671.002933</td>\n",
       "      <td>-56.147596</td>\n",
       "      <td>-34.875496</td>\n",
       "    </tr>\n",
       "    <tr>\n",
       "      <th>std</th>\n",
       "      <td>368.219358</td>\n",
       "      <td>3113.855989</td>\n",
       "      <td>0.038840</td>\n",
       "      <td>0.029654</td>\n",
       "    </tr>\n",
       "    <tr>\n",
       "      <th>min</th>\n",
       "      <td>2.000000</td>\n",
       "      <td>217.000000</td>\n",
       "      <td>-56.256016</td>\n",
       "      <td>-34.928585</td>\n",
       "    </tr>\n",
       "    <tr>\n",
       "      <th>25%</th>\n",
       "      <td>53.000000</td>\n",
       "      <td>266.000000</td>\n",
       "      <td>-56.174942</td>\n",
       "      <td>-34.900887</td>\n",
       "    </tr>\n",
       "    <tr>\n",
       "      <th>50%</th>\n",
       "      <td>110.000000</td>\n",
       "      <td>565.000000</td>\n",
       "      <td>-56.148083</td>\n",
       "      <td>-34.881416</td>\n",
       "    </tr>\n",
       "    <tr>\n",
       "      <th>75%</th>\n",
       "      <td>709.000000</td>\n",
       "      <td>7516.000000</td>\n",
       "      <td>-56.128693</td>\n",
       "      <td>-34.863860</td>\n",
       "    </tr>\n",
       "    <tr>\n",
       "      <th>max</th>\n",
       "      <td>1111.000000</td>\n",
       "      <td>7929.000000</td>\n",
       "      <td>-55.995388</td>\n",
       "      <td>-34.715830</td>\n",
       "    </tr>\n",
       "  </tbody>\n",
       "</table>\n",
       "</div>"
      ],
      "text/plain": [
       "                 id          line     longitude      latitude\n",
       "count  96496.000000  96496.000000  96496.000000  96496.000000\n",
       "mean     348.944153   2671.002933    -56.147596    -34.875496\n",
       "std      368.219358   3113.855989      0.038840      0.029654\n",
       "min        2.000000    217.000000    -56.256016    -34.928585\n",
       "25%       53.000000    266.000000    -56.174942    -34.900887\n",
       "50%      110.000000    565.000000    -56.148083    -34.881416\n",
       "75%      709.000000   7516.000000    -56.128693    -34.863860\n",
       "max     1111.000000   7929.000000    -55.995388    -34.715830"
      ]
     },
     "execution_count": 7,
     "metadata": {},
     "output_type": "execute_result"
    }
   ],
   "source": [
    "stage_1_data.describe()"
   ]
  },
  {
   "cell_type": "markdown",
   "metadata": {},
   "source": [
    "![Montevideo](../images/montevideo.png)"
   ]
  },
  {
   "cell_type": "markdown",
   "metadata": {},
   "source": [
    "Sabemos que montevideo esta contenido en una _Bounding Box_ con las siguientes coordenadas:\n",
    "\n",
    "Izquierda: **-34.8304**, -56.4320\n",
    "\n",
    "Derecha  : **-34.8792**, -56.0224\n",
    "\n",
    "Arriba   : -34.7018, **-56.3156**\n",
    "\n",
    "Abajo    : -34.9380, **-56.1606**"
   ]
  },
  {
   "cell_type": "code",
   "execution_count": 37,
   "metadata": {},
   "outputs": [
    {
     "name": "stdout",
     "output_type": "stream",
     "text": [
      "Max Latitude: -34.71583\n",
      "Min Latitude: -34.928585\n",
      "Max Longitude: -55.995388\n",
      "Min Longitude: -56.256016\n",
      "\n",
      "Latitude upper bound is WRONG\n",
      "Difference: 21.599770000000007\n",
      "\n",
      "Latitude lower bound is WRONG\n",
      "Difference: 21.232015000000004\n",
      "\n",
      "Latitude right bound is OK\n",
      "Latitude left  bound is OK\n"
     ]
    }
   ],
   "source": [
    "UPPER_BOUND, LOWER_BOUND, RIGHT_BOUND, LEFT_BOUND = [-56.3156, -56.1606, -34.8792,  -34.8304]\n",
    "max_lat = stage_1_data.latitude.max()\n",
    "min_lat = stage_1_data.latitude.min()\n",
    "max_lon = stage_1_data.longitude.max()\n",
    "min_lon = stage_1_data.longitude.min()\n",
    "print('Max Latitude: {0}\\nMin Latitude: {1}\\nMax Longitude: {2}\\nMin Longitude: {3}\\n'\n",
    "      .format(max_lat, min_lat, max_lon, min_lon))\n",
    "print('Latitude upper bound is OK') if max_lat <= UPPER_BOUND else print('Latitude upper bound is WRONG\\nDifference: {0}\\n'\n",
    "                                                                         .format(abs(UPPER_BOUND-max_lat)))\n",
    "print('Latitude lower bound is OK') if min_lat <= LOWER_BOUND else print('Latitude lower bound is WRONG\\nDifference: {0}\\n'\n",
    "                                                                         .format(abs(LOWER_BOUND-min_lat)))\n",
    "print('Latitude right bound is OK') if max_lon <= RIGHT_BOUND else print('Latitude right bound is WRONG\\nDifference: {0}\\n'\n",
    "                                                                         .format(abs(RIGHT_BOUND-max_lon)))\n",
    "print('Latitude left  bound is OK') if min_lon <= LEFT_BOUND  else print('Latitude left  bound is WRONG\\nDifference: {0}\\n'\n",
    "                                                                         .format(abs(LEFT_BOUND -min_lon)))"
   ]
  },
  {
   "cell_type": "code",
   "execution_count": 46,
   "metadata": {},
   "outputs": [
    {
     "name": "stdout",
     "output_type": "stream",
     "text": [
      "-34.71583 \n",
      " -34.928585\n"
     ]
    }
   ],
   "source": [
    "print(max_lat,'\\n',min_lat)\n",
    "upper_bound_violation = stage_1_data[stage_1_data.latitude==-34.71583]\n",
    "lower_bound_violation = stage_1_data[stage_1_data.latitude==-34.928585]"
   ]
  },
  {
   "cell_type": "code",
   "execution_count": 47,
   "metadata": {},
   "outputs": [
    {
     "data": {
      "text/html": [
       "<div>\n",
       "<style scoped>\n",
       "    .dataframe tbody tr th:only-of-type {\n",
       "        vertical-align: middle;\n",
       "    }\n",
       "\n",
       "    .dataframe tbody tr th {\n",
       "        vertical-align: top;\n",
       "    }\n",
       "\n",
       "    .dataframe thead th {\n",
       "        text-align: right;\n",
       "    }\n",
       "</style>\n",
       "<table border=\"1\" class=\"dataframe\">\n",
       "  <thead>\n",
       "    <tr style=\"text-align: right;\">\n",
       "      <th></th>\n",
       "      <th>id</th>\n",
       "      <th>line</th>\n",
       "      <th>longitude</th>\n",
       "      <th>latitude</th>\n",
       "      <th>timestamp</th>\n",
       "    </tr>\n",
       "  </thead>\n",
       "  <tbody>\n",
       "    <tr>\n",
       "      <th>61557</th>\n",
       "      <td>1014</td>\n",
       "      <td>522</td>\n",
       "      <td>-56.148420</td>\n",
       "      <td>-34.71583</td>\n",
       "      <td>2018-10-02 16:36:56</td>\n",
       "    </tr>\n",
       "    <tr>\n",
       "      <th>61661</th>\n",
       "      <td>1014</td>\n",
       "      <td>522</td>\n",
       "      <td>-56.148445</td>\n",
       "      <td>-34.71583</td>\n",
       "      <td>2018-10-02 16:37:11</td>\n",
       "    </tr>\n",
       "  </tbody>\n",
       "</table>\n",
       "</div>"
      ],
      "text/plain": [
       "         id  line  longitude  latitude            timestamp\n",
       "61557  1014   522 -56.148420 -34.71583  2018-10-02 16:36:56\n",
       "61661  1014   522 -56.148445 -34.71583  2018-10-02 16:37:11"
      ]
     },
     "execution_count": 47,
     "metadata": {},
     "output_type": "execute_result"
    }
   ],
   "source": [
    "upper_bound_violation.head()"
   ]
  },
  {
   "cell_type": "markdown",
   "metadata": {},
   "source": [
    "![Montevideo](../images/upper_bound_violation.png)"
   ]
  },
  {
   "cell_type": "markdown",
   "metadata": {},
   "source": [
    "Efectivamente esta fuera de Montevideo pero podemos dejarlo ya que no es un outlier"
   ]
  },
  {
   "cell_type": "code",
   "execution_count": 48,
   "metadata": {},
   "outputs": [
    {
     "data": {
      "text/html": [
       "<div>\n",
       "<style scoped>\n",
       "    .dataframe tbody tr th:only-of-type {\n",
       "        vertical-align: middle;\n",
       "    }\n",
       "\n",
       "    .dataframe tbody tr th {\n",
       "        vertical-align: top;\n",
       "    }\n",
       "\n",
       "    .dataframe thead th {\n",
       "        text-align: right;\n",
       "    }\n",
       "</style>\n",
       "<table border=\"1\" class=\"dataframe\">\n",
       "  <thead>\n",
       "    <tr style=\"text-align: right;\">\n",
       "      <th></th>\n",
       "      <th>id</th>\n",
       "      <th>line</th>\n",
       "      <th>longitude</th>\n",
       "      <th>latitude</th>\n",
       "      <th>timestamp</th>\n",
       "    </tr>\n",
       "  </thead>\n",
       "  <tbody>\n",
       "    <tr>\n",
       "      <th>47195</th>\n",
       "      <td>174</td>\n",
       "      <td>7516</td>\n",
       "      <td>-56.16155</td>\n",
       "      <td>-34.928585</td>\n",
       "      <td>2018-10-02 16:08:40</td>\n",
       "    </tr>\n",
       "    <tr>\n",
       "      <th>76014</th>\n",
       "      <td>258</td>\n",
       "      <td>7517</td>\n",
       "      <td>-56.16155</td>\n",
       "      <td>-34.928585</td>\n",
       "      <td>2018-10-02 17:06:57</td>\n",
       "    </tr>\n",
       "  </tbody>\n",
       "</table>\n",
       "</div>"
      ],
      "text/plain": [
       "        id  line  longitude   latitude            timestamp\n",
       "47195  174  7516  -56.16155 -34.928585  2018-10-02 16:08:40\n",
       "76014  258  7517  -56.16155 -34.928585  2018-10-02 17:06:57"
      ]
     },
     "execution_count": 48,
     "metadata": {},
     "output_type": "execute_result"
    }
   ],
   "source": [
    "lower_bound_violation.head()"
   ]
  },
  {
   "cell_type": "code",
   "execution_count": 49,
   "metadata": {},
   "outputs": [],
   "source": [
    "##################TODO###################\n",
    "# Encontrar porque el segundo bound cae #\n",
    "# dentro de montevideo y es considerado #\n",
    "# otulier                               #\n",
    "#########################################\n",
    "#https://www.openstreetmap.org/search?whereami=1&query=-34.9380%2C-56.1603#map=16/-34.9380/-56.1603"
   ]
  },
  {
   "cell_type": "code",
   "execution_count": null,
   "metadata": {},
   "outputs": [],
   "source": []
  }
 ],
 "metadata": {
  "kernelspec": {
   "display_name": "Python 3",
   "language": "python",
   "name": "python3"
  },
  "language_info": {
   "codemirror_mode": {
    "name": "ipython",
    "version": 3
   },
   "file_extension": ".py",
   "mimetype": "text/x-python",
   "name": "python",
   "nbconvert_exporter": "python",
   "pygments_lexer": "ipython3",
   "version": "3.7.0"
  }
 },
 "nbformat": 4,
 "nbformat_minor": 2
}
