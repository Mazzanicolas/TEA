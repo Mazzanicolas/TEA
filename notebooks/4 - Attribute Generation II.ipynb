{
 "cells": [
  {
   "cell_type": "markdown",
   "metadata": {},
   "source": [
    "# Attribute Genration II"
   ]
  },
  {
   "cell_type": "code",
   "execution_count": 1,
   "metadata": {},
   "outputs": [],
   "source": [
    "import pandas as pd\n",
    "import numpy as np\n",
    "import matplotlib.pyplot as plt\n",
    "import matplotlib"
   ]
  },
  {
   "cell_type": "code",
   "execution_count": 2,
   "metadata": {},
   "outputs": [
    {
     "data": {
      "text/html": [
       "<div>\n",
       "<style scoped>\n",
       "    .dataframe tbody tr th:only-of-type {\n",
       "        vertical-align: middle;\n",
       "    }\n",
       "\n",
       "    .dataframe tbody tr th {\n",
       "        vertical-align: top;\n",
       "    }\n",
       "\n",
       "    .dataframe thead th {\n",
       "        text-align: right;\n",
       "    }\n",
       "</style>\n",
       "<table border=\"1\" class=\"dataframe\">\n",
       "  <thead>\n",
       "    <tr style=\"text-align: right;\">\n",
       "      <th></th>\n",
       "      <th>id</th>\n",
       "      <th>line</th>\n",
       "      <th>longitude</th>\n",
       "      <th>latitude</th>\n",
       "      <th>timestamp</th>\n",
       "      <th>next_longitude</th>\n",
       "      <th>next_latitude</th>\n",
       "      <th>next_timestamp</th>\n",
       "      <th>distance</th>\n",
       "      <th>time</th>\n",
       "      <th>speed</th>\n",
       "    </tr>\n",
       "  </thead>\n",
       "  <tbody>\n",
       "    <tr>\n",
       "      <th>0</th>\n",
       "      <td>76</td>\n",
       "      <td>217</td>\n",
       "      <td>-56.222400</td>\n",
       "      <td>-34.855885</td>\n",
       "      <td>2018-10-02 14:38:53</td>\n",
       "      <td>-56.222717</td>\n",
       "      <td>-34.855766</td>\n",
       "      <td>2018-10-02 14:39:23</td>\n",
       "      <td>31.807877</td>\n",
       "      <td>0 days 00:00:30.000000000</td>\n",
       "      <td>1.060263</td>\n",
       "    </tr>\n",
       "    <tr>\n",
       "      <th>1</th>\n",
       "      <td>76</td>\n",
       "      <td>217</td>\n",
       "      <td>-56.222717</td>\n",
       "      <td>-34.855766</td>\n",
       "      <td>2018-10-02 14:39:23</td>\n",
       "      <td>-56.222733</td>\n",
       "      <td>-34.855780</td>\n",
       "      <td>2018-10-02 14:39:53</td>\n",
       "      <td>2.134200</td>\n",
       "      <td>0 days 00:00:30.000000000</td>\n",
       "      <td>0.071140</td>\n",
       "    </tr>\n",
       "    <tr>\n",
       "      <th>2</th>\n",
       "      <td>76</td>\n",
       "      <td>217</td>\n",
       "      <td>-56.222733</td>\n",
       "      <td>-34.855780</td>\n",
       "      <td>2018-10-02 14:39:53</td>\n",
       "      <td>-56.222916</td>\n",
       "      <td>-34.855682</td>\n",
       "      <td>2018-10-02 14:40:08</td>\n",
       "      <td>19.939152</td>\n",
       "      <td>0 days 00:00:15.000000000</td>\n",
       "      <td>1.329277</td>\n",
       "    </tr>\n",
       "    <tr>\n",
       "      <th>3</th>\n",
       "      <td>76</td>\n",
       "      <td>217</td>\n",
       "      <td>-56.222916</td>\n",
       "      <td>-34.855682</td>\n",
       "      <td>2018-10-02 14:40:08</td>\n",
       "      <td>-56.222866</td>\n",
       "      <td>-34.855682</td>\n",
       "      <td>2018-10-02 14:40:23</td>\n",
       "      <td>4.562295</td>\n",
       "      <td>0 days 00:00:15.000000000</td>\n",
       "      <td>0.304153</td>\n",
       "    </tr>\n",
       "    <tr>\n",
       "      <th>4</th>\n",
       "      <td>76</td>\n",
       "      <td>217</td>\n",
       "      <td>-56.222866</td>\n",
       "      <td>-34.855682</td>\n",
       "      <td>2018-10-02 14:40:23</td>\n",
       "      <td>-56.222850</td>\n",
       "      <td>-34.855667</td>\n",
       "      <td>2018-10-02 14:40:38</td>\n",
       "      <td>2.216614</td>\n",
       "      <td>0 days 00:00:15.000000000</td>\n",
       "      <td>0.147774</td>\n",
       "    </tr>\n",
       "  </tbody>\n",
       "</table>\n",
       "</div>"
      ],
      "text/plain": [
       "   id  line  longitude   latitude            timestamp  next_longitude  \\\n",
       "0  76   217 -56.222400 -34.855885  2018-10-02 14:38:53      -56.222717   \n",
       "1  76   217 -56.222717 -34.855766  2018-10-02 14:39:23      -56.222733   \n",
       "2  76   217 -56.222733 -34.855780  2018-10-02 14:39:53      -56.222916   \n",
       "3  76   217 -56.222916 -34.855682  2018-10-02 14:40:08      -56.222866   \n",
       "4  76   217 -56.222866 -34.855682  2018-10-02 14:40:23      -56.222850   \n",
       "\n",
       "   next_latitude       next_timestamp   distance                       time  \\\n",
       "0     -34.855766  2018-10-02 14:39:23  31.807877  0 days 00:00:30.000000000   \n",
       "1     -34.855780  2018-10-02 14:39:53   2.134200  0 days 00:00:30.000000000   \n",
       "2     -34.855682  2018-10-02 14:40:08  19.939152  0 days 00:00:15.000000000   \n",
       "3     -34.855682  2018-10-02 14:40:23   4.562295  0 days 00:00:15.000000000   \n",
       "4     -34.855667  2018-10-02 14:40:38   2.216614  0 days 00:00:15.000000000   \n",
       "\n",
       "      speed  \n",
       "0  1.060263  \n",
       "1  0.071140  \n",
       "2  1.329277  \n",
       "3  0.304153  \n",
       "4  0.147774  "
      ]
     },
     "execution_count": 2,
     "metadata": {},
     "output_type": "execute_result"
    }
   ],
   "source": [
    "data = pd.read_csv('../data/bus_data_stage_2.csv')\n",
    "data = data.drop(['Unnamed: 0'], axis=1)\n",
    "data.head()"
   ]
  },
  {
   "cell_type": "markdown",
   "metadata": {},
   "source": [
    "Ahora vamos a crear una bounding box que contiene a todos los recorridos"
   ]
  },
  {
   "cell_type": "code",
   "execution_count": 3,
   "metadata": {},
   "outputs": [
    {
     "name": "stdout",
     "output_type": "stream",
     "text": [
      "Max Latitude: -55.99586\n",
      "Max Longitude: -55.99586\n",
      "Min Latitude: -34.928585\n",
      "Min Longitude: -56.256016\n",
      "\n"
     ]
    }
   ],
   "source": [
    "MAX_LAT = data.latitude.max()\n",
    "MAX_LON = data.longitude.max()\n",
    "MIN_LAT = data.latitude.min()\n",
    "MIN_LON = data.longitude.min()\n",
    "print('Max Latitude: {1}\\nMax Longitude: {1}\\nMin Latitude: {2}\\nMin Longitude: {3}\\n'.format(MAX_LAT,\n",
    "                                                                                              MAX_LON,\n",
    "                                                                                              MIN_LAT,\n",
    "                                                                                              MIN_LON))"
   ]
  },
  {
   "cell_type": "markdown",
   "metadata": {},
   "source": [
    "Ahora creamos una bounding box con un padding de 0.001 _(100m)_ y sectores de 0.01 _(1Km)_."
   ]
  },
  {
   "cell_type": "code",
   "execution_count": 4,
   "metadata": {},
   "outputs": [
    {
     "name": "stdout",
     "output_type": "stream",
     "text": [
      "Matrix (22x27)\n"
     ]
    }
   ],
   "source": [
    "step = 0.01\n",
    "padding = 0.001\n",
    "longitude = np.arange(MIN_LON+padding, MAX_LON+padding, step)\n",
    "latitude  = np.arange(MIN_LAT+padding, MAX_LAT+padding, step)\n",
    "print('Matrix ({0}x{1})'.format(len(latitude),len(longitude)))\n",
    "matrix = pd.DataFrame(columns=['latitude','longitude'])\n",
    "points_lat = []\n",
    "points_lon = []\n",
    "for lon in latitude:\n",
    "    for lat in longitude:\n",
    "        points_lat.append(lat)\n",
    "        points_lon.append(lon)\n",
    "matrix.latitude  = points_lat\n",
    "matrix.longitude = points_lon"
   ]
  },
  {
   "cell_type": "code",
   "execution_count": 5,
   "metadata": {},
   "outputs": [
    {
     "data": {
      "text/plain": [
       "[<matplotlib.lines.Line2D at 0x10e7f0908>]"
      ]
     },
     "execution_count": 5,
     "metadata": {},
     "output_type": "execute_result"
    },
    {
     "data": {
      "image/png": "[encoded data removed]",
      "text/plain": [
       "<Figure size 1224x576 with 1 Axes>"
      ]
     },
     "metadata": {},
     "output_type": "display_data"
    }
   ],
   "source": [
    "plt.figure(figsize=(17,8))\n",
    "plt.title('Montevideo Sector Matrix ')\n",
    "plt.plot(matrix.latitude, matrix.longitude,'*')"
   ]
  },
  {
   "cell_type": "code",
   "execution_count": 6,
   "metadata": {},
   "outputs": [
    {
     "data": {
      "text/html": [
       "<div>\n",
       "<style scoped>\n",
       "    .dataframe tbody tr th:only-of-type {\n",
       "        vertical-align: middle;\n",
       "    }\n",
       "\n",
       "    .dataframe tbody tr th {\n",
       "        vertical-align: top;\n",
       "    }\n",
       "\n",
       "    .dataframe thead th {\n",
       "        text-align: right;\n",
       "    }\n",
       "</style>\n",
       "<table border=\"1\" class=\"dataframe\">\n",
       "  <thead>\n",
       "    <tr style=\"text-align: right;\">\n",
       "      <th></th>\n",
       "      <th>latitude</th>\n",
       "      <th>longitude</th>\n",
       "    </tr>\n",
       "  </thead>\n",
       "  <tbody>\n",
       "    <tr>\n",
       "      <th>0</th>\n",
       "      <td>-56.255016</td>\n",
       "      <td>-34.927585</td>\n",
       "    </tr>\n",
       "    <tr>\n",
       "      <th>1</th>\n",
       "      <td>-56.245016</td>\n",
       "      <td>-34.927585</td>\n",
       "    </tr>\n",
       "    <tr>\n",
       "      <th>2</th>\n",
       "      <td>-56.235016</td>\n",
       "      <td>-34.927585</td>\n",
       "    </tr>\n",
       "    <tr>\n",
       "      <th>3</th>\n",
       "      <td>-56.225016</td>\n",
       "      <td>-34.927585</td>\n",
       "    </tr>\n",
       "    <tr>\n",
       "      <th>4</th>\n",
       "      <td>-56.215016</td>\n",
       "      <td>-34.927585</td>\n",
       "    </tr>\n",
       "  </tbody>\n",
       "</table>\n",
       "</div>"
      ],
      "text/plain": [
       "    latitude  longitude\n",
       "0 -56.255016 -34.927585\n",
       "1 -56.245016 -34.927585\n",
       "2 -56.235016 -34.927585\n",
       "3 -56.225016 -34.927585\n",
       "4 -56.215016 -34.927585"
      ]
     },
     "execution_count": 6,
     "metadata": {},
     "output_type": "execute_result"
    }
   ],
   "source": [
    "matrix.head()"
   ]
  },
  {
   "cell_type": "code",
   "execution_count": 7,
   "metadata": {},
   "outputs": [],
   "source": [
    "def print_base():\n",
    "    plt.figure(figsize=(17,8))\n",
    "    plt.plot(matrix.latitude, matrix.longitude,'o', c='b')\n",
    "    \n",
    "def print_section(position, section):\n",
    "    plt.text(position[1]+0.002,position[0]-0.006, '({0},{1})'.format(str(section[0]),\n",
    "                                                                     str(section[1])),\n",
    "                                                                     fontsize=9, color='k')\n",
    "    plt.plot(position[1]+0.005,position[0]-0.005,'s',c='r', markersize= 20)\n",
    "\n",
    "def get_position_in_matrix(orig_lat, orig_long, dest_lat, dest_long, step = 0.01, padding = 0.001):\n",
    "    longitude = np.arange(MIN_LON + padding, MAX_LON + padding, step)\n",
    "    latitude  = np.arange(MIN_LAT + padding, MAX_LAT + padding, step)\n",
    "    centroid_lat = orig_lat  + abs(orig_lat  - dest_lat) /2\n",
    "    centroid_lon = orig_long + abs(orig_long - dest_long)/2\n",
    "    position = [None, None]\n",
    "    section  = [None, None]\n",
    "    for index, lat in enumerate(latitude):\n",
    "        if lat >= centroid_lat:\n",
    "            position[0] = lat\n",
    "            section[0]  = index\n",
    "            break\n",
    "    for index, lon in enumerate(longitude):\n",
    "        if lon >= centroid_lon:\n",
    "            position[1] = lon\n",
    "            section[1]  = index\n",
    "            break\n",
    "    return section\n",
    "\n",
    "def show_matrix(line, r=22,c=27):\n",
    "    positions = []\n",
    "    for row in line.itertuples():\n",
    "        position = get_position_in_matrix(row.latitude,\n",
    "                                          row.longitude,\n",
    "                                          row.next_latitude,\n",
    "                                          row.next_longitude)\n",
    "        positions.append(position)\n",
    "    speeds = line.speed\n",
    "    matrix = np.zeros((r,c))\n",
    "    \n",
    "    fig, ax = plt.subplots()\n",
    "    for index, point in enumerate(positions):\n",
    "        matrix[point[0]][point[1]] = speeds[index]\n",
    "        ax.text(point[0], point[1], round(speeds[index],0),\n",
    "                       ha=\"center\", va=\"center\", color=\"w\")\n",
    "\n",
    "    ax.imshow(matrix[::-1])\n",
    "#     plt.matshow(matrix[::-1])#,fignum=1)\n",
    "    plt.show()"
   ]
  },
  {
   "cell_type": "code",
   "execution_count": 8,
   "metadata": {
    "scrolled": false
   },
   "outputs": [
    {
     "data": {
      "image/png": "[encoded data removed]",
      "text/plain": [
       "<Figure size 1440x1008 with 1 Axes>"
      ]
     },
     "metadata": {},
     "output_type": "display_data"
    }
   ],
   "source": [
    "matplotlib.rcParams['figure.figsize'] = [20, 14]\n",
    "line_217 = data.query('line==217 & id==76')\n",
    "show_matrix(line_217)"
   ]
  },
  {
   "cell_type": "code",
   "execution_count": null,
   "metadata": {},
   "outputs": [],
   "source": []
  },
  {
   "cell_type": "code",
   "execution_count": null,
   "metadata": {},
   "outputs": [],
   "source": []
  }
 ],
 "metadata": {
  "kernelspec": {
   "display_name": "Python 3",
   "language": "python",
   "name": "python3"
  },
  "language_info": {
   "codemirror_mode": {
    "name": "ipython",
    "version": 3
   },
   "file_extension": ".py",
   "mimetype": "text/x-python",
   "name": "python",
   "nbconvert_exporter": "python",
   "pygments_lexer": "ipython3",
   "version": "3.5.5"
  }
 },
 "nbformat": 4,
 "nbformat_minor": 2
}
