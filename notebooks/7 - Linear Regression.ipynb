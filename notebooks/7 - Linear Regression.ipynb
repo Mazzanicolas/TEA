{
 "cells": [
  {
   "cell_type": "markdown",
   "metadata": {},
   "source": [
    "# Linear Regression\n",
    "\n",
    "Vamos a intentar predecir a que hora va a pasasar el omnibus en base a la distancia a la que se encuentra."
   ]
  },
  {
   "cell_type": "code",
   "execution_count": 4,
   "metadata": {},
   "outputs": [],
   "source": [
    "import pandas as pd"
   ]
  },
  {
   "cell_type": "code",
   "execution_count": 3,
   "metadata": {},
   "outputs": [
    {
     "data": {
      "text/html": [
       "<div>\n",
       "<style scoped>\n",
       "    .dataframe tbody tr th:only-of-type {\n",
       "        vertical-align: middle;\n",
       "    }\n",
       "\n",
       "    .dataframe tbody tr th {\n",
       "        vertical-align: top;\n",
       "    }\n",
       "\n",
       "    .dataframe thead th {\n",
       "        text-align: right;\n",
       "    }\n",
       "</style>\n",
       "<table border=\"1\" class=\"dataframe\">\n",
       "  <thead>\n",
       "    <tr style=\"text-align: right;\">\n",
       "      <th></th>\n",
       "      <th>id</th>\n",
       "      <th>line</th>\n",
       "      <th>longitude</th>\n",
       "      <th>latitude</th>\n",
       "      <th>timestamp</th>\n",
       "      <th>next_longitude</th>\n",
       "      <th>next_latitude</th>\n",
       "      <th>next_timestamp</th>\n",
       "      <th>distance</th>\n",
       "      <th>time</th>\n",
       "      <th>speed</th>\n",
       "      <th>matrix_position</th>\n",
       "    </tr>\n",
       "  </thead>\n",
       "  <tbody>\n",
       "    <tr>\n",
       "      <th>0</th>\n",
       "      <td>76</td>\n",
       "      <td>217</td>\n",
       "      <td>-56.222400</td>\n",
       "      <td>-34.855885</td>\n",
       "      <td>2018-10-02 14:38:53</td>\n",
       "      <td>-56.222717</td>\n",
       "      <td>-34.855766</td>\n",
       "      <td>2018-10-02 14:39:23</td>\n",
       "      <td>31.807877</td>\n",
       "      <td>30.0</td>\n",
       "      <td>1.060263</td>\n",
       "      <td>[8, 4]</td>\n",
       "    </tr>\n",
       "    <tr>\n",
       "      <th>1</th>\n",
       "      <td>76</td>\n",
       "      <td>217</td>\n",
       "      <td>-56.222717</td>\n",
       "      <td>-34.855766</td>\n",
       "      <td>2018-10-02 14:39:23</td>\n",
       "      <td>-56.222733</td>\n",
       "      <td>-34.855780</td>\n",
       "      <td>2018-10-02 14:39:53</td>\n",
       "      <td>2.134200</td>\n",
       "      <td>30.0</td>\n",
       "      <td>0.071140</td>\n",
       "      <td>[8, 4]</td>\n",
       "    </tr>\n",
       "    <tr>\n",
       "      <th>2</th>\n",
       "      <td>76</td>\n",
       "      <td>217</td>\n",
       "      <td>-56.222733</td>\n",
       "      <td>-34.855780</td>\n",
       "      <td>2018-10-02 14:39:53</td>\n",
       "      <td>-56.222916</td>\n",
       "      <td>-34.855682</td>\n",
       "      <td>2018-10-02 14:40:08</td>\n",
       "      <td>19.939152</td>\n",
       "      <td>15.0</td>\n",
       "      <td>1.329277</td>\n",
       "      <td>[8, 4]</td>\n",
       "    </tr>\n",
       "    <tr>\n",
       "      <th>3</th>\n",
       "      <td>76</td>\n",
       "      <td>217</td>\n",
       "      <td>-56.222916</td>\n",
       "      <td>-34.855682</td>\n",
       "      <td>2018-10-02 14:40:08</td>\n",
       "      <td>-56.222866</td>\n",
       "      <td>-34.855682</td>\n",
       "      <td>2018-10-02 14:40:23</td>\n",
       "      <td>4.562295</td>\n",
       "      <td>15.0</td>\n",
       "      <td>0.304153</td>\n",
       "      <td>[8, 4]</td>\n",
       "    </tr>\n",
       "    <tr>\n",
       "      <th>4</th>\n",
       "      <td>76</td>\n",
       "      <td>217</td>\n",
       "      <td>-56.222866</td>\n",
       "      <td>-34.855682</td>\n",
       "      <td>2018-10-02 14:40:23</td>\n",
       "      <td>-56.222850</td>\n",
       "      <td>-34.855667</td>\n",
       "      <td>2018-10-02 14:40:38</td>\n",
       "      <td>2.216614</td>\n",
       "      <td>15.0</td>\n",
       "      <td>0.147774</td>\n",
       "      <td>[8, 4]</td>\n",
       "    </tr>\n",
       "  </tbody>\n",
       "</table>\n",
       "</div>"
      ],
      "text/plain": [
       "   id  line  longitude   latitude            timestamp  next_longitude  \\\n",
       "0  76   217 -56.222400 -34.855885  2018-10-02 14:38:53      -56.222717   \n",
       "1  76   217 -56.222717 -34.855766  2018-10-02 14:39:23      -56.222733   \n",
       "2  76   217 -56.222733 -34.855780  2018-10-02 14:39:53      -56.222916   \n",
       "3  76   217 -56.222916 -34.855682  2018-10-02 14:40:08      -56.222866   \n",
       "4  76   217 -56.222866 -34.855682  2018-10-02 14:40:23      -56.222850   \n",
       "\n",
       "   next_latitude       next_timestamp   distance  time     speed  \\\n",
       "0     -34.855766  2018-10-02 14:39:23  31.807877  30.0  1.060263   \n",
       "1     -34.855780  2018-10-02 14:39:53   2.134200  30.0  0.071140   \n",
       "2     -34.855682  2018-10-02 14:40:08  19.939152  15.0  1.329277   \n",
       "3     -34.855682  2018-10-02 14:40:23   4.562295  15.0  0.304153   \n",
       "4     -34.855667  2018-10-02 14:40:38   2.216614  15.0  0.147774   \n",
       "\n",
       "  matrix_position  \n",
       "0          [8, 4]  \n",
       "1          [8, 4]  \n",
       "2          [8, 4]  \n",
       "3          [8, 4]  \n",
       "4          [8, 4]  "
      ]
     },
     "execution_count": 3,
     "metadata": {},
     "output_type": "execute_result"
    }
   ],
   "source": [
    "data = pd.read_csv('../data/dataset.csv')\n",
    "data = data.drop(['Unnamed: 0'], axis=1)\n",
    "data.head()"
   ]
  },
  {
   "cell_type": "markdown",
   "metadata": {},
   "source": [
    "Para esto solo vamos a utilizar la distancia, velocidad y el tiempo"
   ]
  },
  {
   "cell_type": "code",
   "execution_count": 7,
   "metadata": {},
   "outputs": [
    {
     "ename": "TypeError",
     "evalue": "'method' object is not subscriptable",
     "output_type": "error",
     "traceback": [
      "\u001b[0;31m---------------------------------------------------------------------------\u001b[0m",
      "\u001b[0;31mTypeError\u001b[0m                                 Traceback (most recent call last)",
      "\u001b[0;32m<ipython-input-7-e212ca950da0>\u001b[0m in \u001b[0;36m<module>\u001b[0;34m()\u001b[0m\n\u001b[0;32m----> 1\u001b[0;31m \u001b[0mdata\u001b[0m \u001b[0;34m=\u001b[0m \u001b[0mdata\u001b[0m\u001b[0;34m.\u001b[0m\u001b[0mdrop\u001b[0m\u001b[0;34m[\u001b[0m\u001b[0;34m'id'\u001b[0m\u001b[0;34m,\u001b[0m\u001b[0;34m'line'\u001b[0m\u001b[0;34m,\u001b[0m\u001b[0;34m'longitude'\u001b[0m\u001b[0;34m,\u001b[0m\u001b[0;34m'latitude'\u001b[0m\u001b[0;34m,\u001b[0m\u001b[0;34m'timestamp'\u001b[0m\u001b[0;34m,\u001b[0m\u001b[0;34m'next_longitude'\u001b[0m\u001b[0;34m,\u001b[0m\u001b[0;34m'next_latitude'\u001b[0m\u001b[0;34m,\u001b[0m\u001b[0;34m'next_timestamp'\u001b[0m\u001b[0;34m,\u001b[0m\u001b[0;34m'speed'\u001b[0m\u001b[0;34m,\u001b[0m\u001b[0;34m'matrix_position'\u001b[0m\u001b[0;34m]\u001b[0m\u001b[0;34m\u001b[0m\u001b[0m\n\u001b[0m",
      "\u001b[0;31mTypeError\u001b[0m: 'method' object is not subscriptable"
     ]
    }
   ],
   "source": [
    "data = data.drop['id','line','longitude','latitude','timestamp','next_longitude','next_latitude','next_timestamp','speed','matrix_position']"
   ]
  },
  {
   "cell_type": "code",
   "execution_count": null,
   "metadata": {},
   "outputs": [],
   "source": []
  }
 ],
 "metadata": {
  "kernelspec": {
   "display_name": "Python 3",
   "language": "python",
   "name": "python3"
  },
  "language_info": {
   "codemirror_mode": {
    "name": "ipython",
    "version": 3
   },
   "file_extension": ".py",
   "mimetype": "text/x-python",
   "name": "python",
   "nbconvert_exporter": "python",
   "pygments_lexer": "ipython3",
   "version": "3.5.5"
  }
 },
 "nbformat": 4,
 "nbformat_minor": 2
}
